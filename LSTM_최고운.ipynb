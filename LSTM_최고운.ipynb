{
  "nbformat": 4,
  "nbformat_minor": 0,
  "metadata": {
    "colab": {
      "name": "LSTM 최고운",
      "provenance": [],
      "collapsed_sections": [],
      "include_colab_link": true
    },
    "kernelspec": {
      "name": "python3",
      "display_name": "Python 3"
    },
    "language_info": {
      "name": "python"
    },
    "gpuClass": "standard"
  },
  "cells": [
    {
      "cell_type": "markdown",
      "metadata": {
        "id": "view-in-github",
        "colab_type": "text"
      },
      "source": [
        "<a href=\"https://colab.research.google.com/github/cku7808/kdata-MLDL-mini-project/blob/main/LSTM_%EC%B5%9C%EA%B3%A0%EC%9A%B4.ipynb\" target=\"_parent\"><img src=\"https://colab.research.google.com/assets/colab-badge.svg\" alt=\"Open In Colab\"/></a>"
      ]
    },
    {
      "cell_type": "markdown",
      "source": [
        "# 데이터 불러오기"
      ],
      "metadata": {
        "id": "59htoEA7SM3_"
      }
    },
    {
      "cell_type": "code",
      "source": [
        "!pip3 install konlpy"
      ],
      "metadata": {
        "colab": {
          "base_uri": "https://localhost:8080/"
        },
        "id": "NI7eBDJuR6GK",
        "outputId": "b8646384-42b9-4d7e-8682-c823fed3045f"
      },
      "execution_count": null,
      "outputs": [
        {
          "output_type": "stream",
          "name": "stdout",
          "text": [
            "Looking in indexes: https://pypi.org/simple, https://us-python.pkg.dev/colab-wheels/public/simple/\n",
            "Requirement already satisfied: konlpy in /usr/local/lib/python3.7/dist-packages (0.6.0)\n",
            "Requirement already satisfied: lxml>=4.1.0 in /usr/local/lib/python3.7/dist-packages (from konlpy) (4.2.6)\n",
            "Requirement already satisfied: JPype1>=0.7.0 in /usr/local/lib/python3.7/dist-packages (from konlpy) (1.4.0)\n",
            "Requirement already satisfied: numpy>=1.6 in /usr/local/lib/python3.7/dist-packages (from konlpy) (1.21.6)\n",
            "Requirement already satisfied: typing-extensions in /usr/local/lib/python3.7/dist-packages (from JPype1>=0.7.0->konlpy) (4.1.1)\n"
          ]
        }
      ]
    },
    {
      "cell_type": "code",
      "source": [
        "import numpy as np\n",
        "import pandas as pd\n",
        "import re\n",
        "import json\n",
        "from konlpy.tag import Okt\n",
        "from konlpy.tag import Kkma\n",
        "from konlpy.tag import Hannanum\n",
        "from konlpy.tag import Komoran\n",
        "from tensorflow.keras.preprocessing.sequence import pad_sequences\n",
        "from tensorflow.keras.preprocessing.text import Tokenizer"
      ],
      "metadata": {
        "id": "fT6CXVeeOYXV"
      },
      "execution_count": null,
      "outputs": []
    },
    {
      "cell_type": "code",
      "source": [
        "from google.colab import drive\n",
        "drive.mount('/content/drive')\n",
        "import os\n",
        "\n",
        "os.chdir('/content/drive/Shareddrives/B반 3조')\n",
        "%pwd"
      ],
      "metadata": {
        "colab": {
          "base_uri": "https://localhost:8080/",
          "height": 54
        },
        "id": "pP9dp2n_W5Qw",
        "outputId": "6a92f524-549f-4812-9934-45bcf42cfda7"
      },
      "execution_count": null,
      "outputs": [
        {
          "output_type": "stream",
          "name": "stdout",
          "text": [
            "Drive already mounted at /content/drive; to attempt to forcibly remount, call drive.mount(\"/content/drive\", force_remount=True).\n"
          ]
        },
        {
          "output_type": "execute_result",
          "data": {
            "text/plain": [
              "'/content/drive/Shareddrives/B반 3조'"
            ],
            "application/vnd.google.colaboratory.intrinsic+json": {
              "type": "string"
            }
          },
          "metadata": {},
          "execution_count": 260
        }
      ]
    },
    {
      "cell_type": "code",
      "source": [
        "train_data = pd.read_csv('7 22 머신러닝 딥러닝 프로젝트/data/naver_data.csv', header = 0, delimiter=',')\n",
        "test_data = pd.read_csv('7 22 머신러닝 딥러닝 프로젝트/data/test.csv', header = 0, delimiter=',')\n",
        "\n",
        "train_data"
      ],
      "metadata": {
        "colab": {
          "base_uri": "https://localhost:8080/",
          "height": 424
        },
        "id": "VGfXyL47W80p",
        "outputId": "ab70dee6-e39f-421a-cd79-f2a0d22315b0"
      },
      "execution_count": null,
      "outputs": [
        {
          "output_type": "execute_result",
          "data": {
            "text/plain": [
              "        ID                날짜                    제목   조회  공감  비공감 label\n",
              "0        0  2022-07-20 15:31           코인시장 물반 고기반   45   0    0    -1\n",
              "1        1  2022-07-20 15:31         조선장 지긋지긋하다 ㅋㅋ   27   0    0     0\n",
              "2        2  2022-07-20 14:51      네이버 나스닥 이전 상장 하면  231   0    0    -1\n",
              "3        3  2022-07-20 14:51  시간이 다 됐다..빨리 빨리 올라가자   60   0    0     1\n",
              "4        4  2022-07-20 14:47               코피터진 jp   79   0    0     0\n",
              "...    ...               ...                   ...  ...  ..  ...   ...\n",
              "5975  5975   2022-05-20 9:20                   ㅅ블년  158  14    0     0\n",
              "5976  5976   2022-05-20 9:19               41층입니다.  373   2    0    -1\n",
              "5977  5977   2022-05-20 9:18       니 굴파고 들어갈라꼬 폼잡나  101   2    0    -1\n",
              "5978  5978   2022-05-20 9:18           혼자 파랭이 실화냐?   98   4    0     0\n",
              "5979  5979   2022-05-20 9:18             가스나그 하나땜시   94   1    0     0\n",
              "\n",
              "[5980 rows x 7 columns]"
            ],
            "text/html": [
              "\n",
              "  <div id=\"df-32589559-fc9b-41f6-9088-ed32b6ed19bc\">\n",
              "    <div class=\"colab-df-container\">\n",
              "      <div>\n",
              "<style scoped>\n",
              "    .dataframe tbody tr th:only-of-type {\n",
              "        vertical-align: middle;\n",
              "    }\n",
              "\n",
              "    .dataframe tbody tr th {\n",
              "        vertical-align: top;\n",
              "    }\n",
              "\n",
              "    .dataframe thead th {\n",
              "        text-align: right;\n",
              "    }\n",
              "</style>\n",
              "<table border=\"1\" class=\"dataframe\">\n",
              "  <thead>\n",
              "    <tr style=\"text-align: right;\">\n",
              "      <th></th>\n",
              "      <th>ID</th>\n",
              "      <th>날짜</th>\n",
              "      <th>제목</th>\n",
              "      <th>조회</th>\n",
              "      <th>공감</th>\n",
              "      <th>비공감</th>\n",
              "      <th>label</th>\n",
              "    </tr>\n",
              "  </thead>\n",
              "  <tbody>\n",
              "    <tr>\n",
              "      <th>0</th>\n",
              "      <td>0</td>\n",
              "      <td>2022-07-20 15:31</td>\n",
              "      <td>코인시장 물반 고기반</td>\n",
              "      <td>45</td>\n",
              "      <td>0</td>\n",
              "      <td>0</td>\n",
              "      <td>-1</td>\n",
              "    </tr>\n",
              "    <tr>\n",
              "      <th>1</th>\n",
              "      <td>1</td>\n",
              "      <td>2022-07-20 15:31</td>\n",
              "      <td>조선장 지긋지긋하다 ㅋㅋ</td>\n",
              "      <td>27</td>\n",
              "      <td>0</td>\n",
              "      <td>0</td>\n",
              "      <td>0</td>\n",
              "    </tr>\n",
              "    <tr>\n",
              "      <th>2</th>\n",
              "      <td>2</td>\n",
              "      <td>2022-07-20 14:51</td>\n",
              "      <td>네이버 나스닥 이전 상장 하면</td>\n",
              "      <td>231</td>\n",
              "      <td>0</td>\n",
              "      <td>0</td>\n",
              "      <td>-1</td>\n",
              "    </tr>\n",
              "    <tr>\n",
              "      <th>3</th>\n",
              "      <td>3</td>\n",
              "      <td>2022-07-20 14:51</td>\n",
              "      <td>시간이 다 됐다..빨리 빨리 올라가자</td>\n",
              "      <td>60</td>\n",
              "      <td>0</td>\n",
              "      <td>0</td>\n",
              "      <td>1</td>\n",
              "    </tr>\n",
              "    <tr>\n",
              "      <th>4</th>\n",
              "      <td>4</td>\n",
              "      <td>2022-07-20 14:47</td>\n",
              "      <td>코피터진 jp</td>\n",
              "      <td>79</td>\n",
              "      <td>0</td>\n",
              "      <td>0</td>\n",
              "      <td>0</td>\n",
              "    </tr>\n",
              "    <tr>\n",
              "      <th>...</th>\n",
              "      <td>...</td>\n",
              "      <td>...</td>\n",
              "      <td>...</td>\n",
              "      <td>...</td>\n",
              "      <td>...</td>\n",
              "      <td>...</td>\n",
              "      <td>...</td>\n",
              "    </tr>\n",
              "    <tr>\n",
              "      <th>5975</th>\n",
              "      <td>5975</td>\n",
              "      <td>2022-05-20 9:20</td>\n",
              "      <td>ㅅ블년</td>\n",
              "      <td>158</td>\n",
              "      <td>14</td>\n",
              "      <td>0</td>\n",
              "      <td>0</td>\n",
              "    </tr>\n",
              "    <tr>\n",
              "      <th>5976</th>\n",
              "      <td>5976</td>\n",
              "      <td>2022-05-20 9:19</td>\n",
              "      <td>41층입니다.</td>\n",
              "      <td>373</td>\n",
              "      <td>2</td>\n",
              "      <td>0</td>\n",
              "      <td>-1</td>\n",
              "    </tr>\n",
              "    <tr>\n",
              "      <th>5977</th>\n",
              "      <td>5977</td>\n",
              "      <td>2022-05-20 9:18</td>\n",
              "      <td>니 굴파고 들어갈라꼬 폼잡나</td>\n",
              "      <td>101</td>\n",
              "      <td>2</td>\n",
              "      <td>0</td>\n",
              "      <td>-1</td>\n",
              "    </tr>\n",
              "    <tr>\n",
              "      <th>5978</th>\n",
              "      <td>5978</td>\n",
              "      <td>2022-05-20 9:18</td>\n",
              "      <td>혼자 파랭이 실화냐?</td>\n",
              "      <td>98</td>\n",
              "      <td>4</td>\n",
              "      <td>0</td>\n",
              "      <td>0</td>\n",
              "    </tr>\n",
              "    <tr>\n",
              "      <th>5979</th>\n",
              "      <td>5979</td>\n",
              "      <td>2022-05-20 9:18</td>\n",
              "      <td>가스나그 하나땜시</td>\n",
              "      <td>94</td>\n",
              "      <td>1</td>\n",
              "      <td>0</td>\n",
              "      <td>0</td>\n",
              "    </tr>\n",
              "  </tbody>\n",
              "</table>\n",
              "<p>5980 rows × 7 columns</p>\n",
              "</div>\n",
              "      <button class=\"colab-df-convert\" onclick=\"convertToInteractive('df-32589559-fc9b-41f6-9088-ed32b6ed19bc')\"\n",
              "              title=\"Convert this dataframe to an interactive table.\"\n",
              "              style=\"display:none;\">\n",
              "        \n",
              "  <svg xmlns=\"http://www.w3.org/2000/svg\" height=\"24px\"viewBox=\"0 0 24 24\"\n",
              "       width=\"24px\">\n",
              "    <path d=\"M0 0h24v24H0V0z\" fill=\"none\"/>\n",
              "    <path d=\"M18.56 5.44l.94 2.06.94-2.06 2.06-.94-2.06-.94-.94-2.06-.94 2.06-2.06.94zm-11 1L8.5 8.5l.94-2.06 2.06-.94-2.06-.94L8.5 2.5l-.94 2.06-2.06.94zm10 10l.94 2.06.94-2.06 2.06-.94-2.06-.94-.94-2.06-.94 2.06-2.06.94z\"/><path d=\"M17.41 7.96l-1.37-1.37c-.4-.4-.92-.59-1.43-.59-.52 0-1.04.2-1.43.59L10.3 9.45l-7.72 7.72c-.78.78-.78 2.05 0 2.83L4 21.41c.39.39.9.59 1.41.59.51 0 1.02-.2 1.41-.59l7.78-7.78 2.81-2.81c.8-.78.8-2.07 0-2.86zM5.41 20L4 18.59l7.72-7.72 1.47 1.35L5.41 20z\"/>\n",
              "  </svg>\n",
              "      </button>\n",
              "      \n",
              "  <style>\n",
              "    .colab-df-container {\n",
              "      display:flex;\n",
              "      flex-wrap:wrap;\n",
              "      gap: 12px;\n",
              "    }\n",
              "\n",
              "    .colab-df-convert {\n",
              "      background-color: #E8F0FE;\n",
              "      border: none;\n",
              "      border-radius: 50%;\n",
              "      cursor: pointer;\n",
              "      display: none;\n",
              "      fill: #1967D2;\n",
              "      height: 32px;\n",
              "      padding: 0 0 0 0;\n",
              "      width: 32px;\n",
              "    }\n",
              "\n",
              "    .colab-df-convert:hover {\n",
              "      background-color: #E2EBFA;\n",
              "      box-shadow: 0px 1px 2px rgba(60, 64, 67, 0.3), 0px 1px 3px 1px rgba(60, 64, 67, 0.15);\n",
              "      fill: #174EA6;\n",
              "    }\n",
              "\n",
              "    [theme=dark] .colab-df-convert {\n",
              "      background-color: #3B4455;\n",
              "      fill: #D2E3FC;\n",
              "    }\n",
              "\n",
              "    [theme=dark] .colab-df-convert:hover {\n",
              "      background-color: #434B5C;\n",
              "      box-shadow: 0px 1px 3px 1px rgba(0, 0, 0, 0.15);\n",
              "      filter: drop-shadow(0px 1px 2px rgba(0, 0, 0, 0.3));\n",
              "      fill: #FFFFFF;\n",
              "    }\n",
              "  </style>\n",
              "\n",
              "      <script>\n",
              "        const buttonEl =\n",
              "          document.querySelector('#df-32589559-fc9b-41f6-9088-ed32b6ed19bc button.colab-df-convert');\n",
              "        buttonEl.style.display =\n",
              "          google.colab.kernel.accessAllowed ? 'block' : 'none';\n",
              "\n",
              "        async function convertToInteractive(key) {\n",
              "          const element = document.querySelector('#df-32589559-fc9b-41f6-9088-ed32b6ed19bc');\n",
              "          const dataTable =\n",
              "            await google.colab.kernel.invokeFunction('convertToInteractive',\n",
              "                                                     [key], {});\n",
              "          if (!dataTable) return;\n",
              "\n",
              "          const docLinkHtml = 'Like what you see? Visit the ' +\n",
              "            '<a target=\"_blank\" href=https://colab.research.google.com/notebooks/data_table.ipynb>data table notebook</a>'\n",
              "            + ' to learn more about interactive tables.';\n",
              "          element.innerHTML = '';\n",
              "          dataTable['output_type'] = 'display_data';\n",
              "          await google.colab.output.renderOutput(dataTable, element);\n",
              "          const docLink = document.createElement('div');\n",
              "          docLink.innerHTML = docLinkHtml;\n",
              "          element.appendChild(docLink);\n",
              "        }\n",
              "      </script>\n",
              "    </div>\n",
              "  </div>\n",
              "  "
            ]
          },
          "metadata": {},
          "execution_count": 261
        }
      ]
    },
    {
      "cell_type": "code",
      "source": [
        "n=train_data['label'].isin([' ','-1']) #공백과 -1이 포함된 요소 찾기\n",
        "train_data = train_data[~n]"
      ],
      "metadata": {
        "id": "YJ0-NZNQWTZt"
      },
      "execution_count": null,
      "outputs": []
    },
    {
      "cell_type": "code",
      "source": [
        "train_data[['label']] = train_data[['label']].astype(int)\n"
      ],
      "metadata": {
        "colab": {
          "base_uri": "https://localhost:8080/"
        },
        "id": "dfWCTUjbWg37",
        "outputId": "666d8a0f-655c-4d08-821a-b0ba8c0e8f95"
      },
      "execution_count": null,
      "outputs": [
        {
          "output_type": "stream",
          "name": "stderr",
          "text": [
            "/usr/local/lib/python3.7/dist-packages/pandas/core/frame.py:3641: SettingWithCopyWarning: \n",
            "A value is trying to be set on a copy of a slice from a DataFrame.\n",
            "Try using .loc[row_indexer,col_indexer] = value instead\n",
            "\n",
            "See the caveats in the documentation: https://pandas.pydata.org/pandas-docs/stable/user_guide/indexing.html#returning-a-view-versus-a-copy\n",
            "  self[k1] = value[k2]\n"
          ]
        }
      ]
    },
    {
      "cell_type": "code",
      "source": [
        "train_data"
      ],
      "metadata": {
        "colab": {
          "base_uri": "https://localhost:8080/",
          "height": 424
        },
        "id": "Rl4S9lfIWlQP",
        "outputId": "e1adb928-107e-4dc5-979f-3613a13114b3"
      },
      "execution_count": null,
      "outputs": [
        {
          "output_type": "execute_result",
          "data": {
            "text/plain": [
              "        ID                날짜                                         제목   조회  \\\n",
              "1        1  2022-07-20 15:31                              조선장 지긋지긋하다 ㅋㅋ   27   \n",
              "3        3  2022-07-20 14:51                       시간이 다 됐다..빨리 빨리 올라가자   60   \n",
              "4        4  2022-07-20 14:47                                    코피터진 jp   79   \n",
              "7        7  2022-07-20 14:31                        우리나라 왠만한 기업들 국장 버리고   80   \n",
              "11      11  2022-07-20 14:26  바지사장 대표랑 뒤에 숨은 이해찬 독하다. 이것들 진짜 아무 것도 안하네.   51   \n",
              "...    ...               ...                                        ...  ...   \n",
              "5973  5973   2022-05-20 9:22                           네이버에 물릴날이 오다니 ㅠㅠ  128   \n",
              "5974  5974   2022-05-20 9:21                           건물이랑 직원들 급여 올리면서  133   \n",
              "5975  5975   2022-05-20 9:20                                        ㅅ블년  158   \n",
              "5978  5978   2022-05-20 9:18                                혼자 파랭이 실화냐?   98   \n",
              "5979  5979   2022-05-20 9:18                                  가스나그 하나땜시   94   \n",
              "\n",
              "      공감  비공감  label  \n",
              "1      0    0      0  \n",
              "3      0    0      1  \n",
              "4      0    0      0  \n",
              "7      1    1      0  \n",
              "11     0    0      0  \n",
              "...   ..  ...    ...  \n",
              "5973   1    0      0  \n",
              "5974   5    0      0  \n",
              "5975  14    0      0  \n",
              "5978   4    0      0  \n",
              "5979   1    0      0  \n",
              "\n",
              "[2843 rows x 7 columns]"
            ],
            "text/html": [
              "\n",
              "  <div id=\"df-6f396530-818a-4de7-ac29-fb1e5ac82b00\">\n",
              "    <div class=\"colab-df-container\">\n",
              "      <div>\n",
              "<style scoped>\n",
              "    .dataframe tbody tr th:only-of-type {\n",
              "        vertical-align: middle;\n",
              "    }\n",
              "\n",
              "    .dataframe tbody tr th {\n",
              "        vertical-align: top;\n",
              "    }\n",
              "\n",
              "    .dataframe thead th {\n",
              "        text-align: right;\n",
              "    }\n",
              "</style>\n",
              "<table border=\"1\" class=\"dataframe\">\n",
              "  <thead>\n",
              "    <tr style=\"text-align: right;\">\n",
              "      <th></th>\n",
              "      <th>ID</th>\n",
              "      <th>날짜</th>\n",
              "      <th>제목</th>\n",
              "      <th>조회</th>\n",
              "      <th>공감</th>\n",
              "      <th>비공감</th>\n",
              "      <th>label</th>\n",
              "    </tr>\n",
              "  </thead>\n",
              "  <tbody>\n",
              "    <tr>\n",
              "      <th>1</th>\n",
              "      <td>1</td>\n",
              "      <td>2022-07-20 15:31</td>\n",
              "      <td>조선장 지긋지긋하다 ㅋㅋ</td>\n",
              "      <td>27</td>\n",
              "      <td>0</td>\n",
              "      <td>0</td>\n",
              "      <td>0</td>\n",
              "    </tr>\n",
              "    <tr>\n",
              "      <th>3</th>\n",
              "      <td>3</td>\n",
              "      <td>2022-07-20 14:51</td>\n",
              "      <td>시간이 다 됐다..빨리 빨리 올라가자</td>\n",
              "      <td>60</td>\n",
              "      <td>0</td>\n",
              "      <td>0</td>\n",
              "      <td>1</td>\n",
              "    </tr>\n",
              "    <tr>\n",
              "      <th>4</th>\n",
              "      <td>4</td>\n",
              "      <td>2022-07-20 14:47</td>\n",
              "      <td>코피터진 jp</td>\n",
              "      <td>79</td>\n",
              "      <td>0</td>\n",
              "      <td>0</td>\n",
              "      <td>0</td>\n",
              "    </tr>\n",
              "    <tr>\n",
              "      <th>7</th>\n",
              "      <td>7</td>\n",
              "      <td>2022-07-20 14:31</td>\n",
              "      <td>우리나라 왠만한 기업들 국장 버리고</td>\n",
              "      <td>80</td>\n",
              "      <td>1</td>\n",
              "      <td>1</td>\n",
              "      <td>0</td>\n",
              "    </tr>\n",
              "    <tr>\n",
              "      <th>11</th>\n",
              "      <td>11</td>\n",
              "      <td>2022-07-20 14:26</td>\n",
              "      <td>바지사장 대표랑 뒤에 숨은 이해찬 독하다. 이것들 진짜 아무 것도 안하네.</td>\n",
              "      <td>51</td>\n",
              "      <td>0</td>\n",
              "      <td>0</td>\n",
              "      <td>0</td>\n",
              "    </tr>\n",
              "    <tr>\n",
              "      <th>...</th>\n",
              "      <td>...</td>\n",
              "      <td>...</td>\n",
              "      <td>...</td>\n",
              "      <td>...</td>\n",
              "      <td>...</td>\n",
              "      <td>...</td>\n",
              "      <td>...</td>\n",
              "    </tr>\n",
              "    <tr>\n",
              "      <th>5973</th>\n",
              "      <td>5973</td>\n",
              "      <td>2022-05-20 9:22</td>\n",
              "      <td>네이버에 물릴날이 오다니 ㅠㅠ</td>\n",
              "      <td>128</td>\n",
              "      <td>1</td>\n",
              "      <td>0</td>\n",
              "      <td>0</td>\n",
              "    </tr>\n",
              "    <tr>\n",
              "      <th>5974</th>\n",
              "      <td>5974</td>\n",
              "      <td>2022-05-20 9:21</td>\n",
              "      <td>건물이랑 직원들 급여 올리면서</td>\n",
              "      <td>133</td>\n",
              "      <td>5</td>\n",
              "      <td>0</td>\n",
              "      <td>0</td>\n",
              "    </tr>\n",
              "    <tr>\n",
              "      <th>5975</th>\n",
              "      <td>5975</td>\n",
              "      <td>2022-05-20 9:20</td>\n",
              "      <td>ㅅ블년</td>\n",
              "      <td>158</td>\n",
              "      <td>14</td>\n",
              "      <td>0</td>\n",
              "      <td>0</td>\n",
              "    </tr>\n",
              "    <tr>\n",
              "      <th>5978</th>\n",
              "      <td>5978</td>\n",
              "      <td>2022-05-20 9:18</td>\n",
              "      <td>혼자 파랭이 실화냐?</td>\n",
              "      <td>98</td>\n",
              "      <td>4</td>\n",
              "      <td>0</td>\n",
              "      <td>0</td>\n",
              "    </tr>\n",
              "    <tr>\n",
              "      <th>5979</th>\n",
              "      <td>5979</td>\n",
              "      <td>2022-05-20 9:18</td>\n",
              "      <td>가스나그 하나땜시</td>\n",
              "      <td>94</td>\n",
              "      <td>1</td>\n",
              "      <td>0</td>\n",
              "      <td>0</td>\n",
              "    </tr>\n",
              "  </tbody>\n",
              "</table>\n",
              "<p>2843 rows × 7 columns</p>\n",
              "</div>\n",
              "      <button class=\"colab-df-convert\" onclick=\"convertToInteractive('df-6f396530-818a-4de7-ac29-fb1e5ac82b00')\"\n",
              "              title=\"Convert this dataframe to an interactive table.\"\n",
              "              style=\"display:none;\">\n",
              "        \n",
              "  <svg xmlns=\"http://www.w3.org/2000/svg\" height=\"24px\"viewBox=\"0 0 24 24\"\n",
              "       width=\"24px\">\n",
              "    <path d=\"M0 0h24v24H0V0z\" fill=\"none\"/>\n",
              "    <path d=\"M18.56 5.44l.94 2.06.94-2.06 2.06-.94-2.06-.94-.94-2.06-.94 2.06-2.06.94zm-11 1L8.5 8.5l.94-2.06 2.06-.94-2.06-.94L8.5 2.5l-.94 2.06-2.06.94zm10 10l.94 2.06.94-2.06 2.06-.94-2.06-.94-.94-2.06-.94 2.06-2.06.94z\"/><path d=\"M17.41 7.96l-1.37-1.37c-.4-.4-.92-.59-1.43-.59-.52 0-1.04.2-1.43.59L10.3 9.45l-7.72 7.72c-.78.78-.78 2.05 0 2.83L4 21.41c.39.39.9.59 1.41.59.51 0 1.02-.2 1.41-.59l7.78-7.78 2.81-2.81c.8-.78.8-2.07 0-2.86zM5.41 20L4 18.59l7.72-7.72 1.47 1.35L5.41 20z\"/>\n",
              "  </svg>\n",
              "      </button>\n",
              "      \n",
              "  <style>\n",
              "    .colab-df-container {\n",
              "      display:flex;\n",
              "      flex-wrap:wrap;\n",
              "      gap: 12px;\n",
              "    }\n",
              "\n",
              "    .colab-df-convert {\n",
              "      background-color: #E8F0FE;\n",
              "      border: none;\n",
              "      border-radius: 50%;\n",
              "      cursor: pointer;\n",
              "      display: none;\n",
              "      fill: #1967D2;\n",
              "      height: 32px;\n",
              "      padding: 0 0 0 0;\n",
              "      width: 32px;\n",
              "    }\n",
              "\n",
              "    .colab-df-convert:hover {\n",
              "      background-color: #E2EBFA;\n",
              "      box-shadow: 0px 1px 2px rgba(60, 64, 67, 0.3), 0px 1px 3px 1px rgba(60, 64, 67, 0.15);\n",
              "      fill: #174EA6;\n",
              "    }\n",
              "\n",
              "    [theme=dark] .colab-df-convert {\n",
              "      background-color: #3B4455;\n",
              "      fill: #D2E3FC;\n",
              "    }\n",
              "\n",
              "    [theme=dark] .colab-df-convert:hover {\n",
              "      background-color: #434B5C;\n",
              "      box-shadow: 0px 1px 3px 1px rgba(0, 0, 0, 0.15);\n",
              "      filter: drop-shadow(0px 1px 2px rgba(0, 0, 0, 0.3));\n",
              "      fill: #FFFFFF;\n",
              "    }\n",
              "  </style>\n",
              "\n",
              "      <script>\n",
              "        const buttonEl =\n",
              "          document.querySelector('#df-6f396530-818a-4de7-ac29-fb1e5ac82b00 button.colab-df-convert');\n",
              "        buttonEl.style.display =\n",
              "          google.colab.kernel.accessAllowed ? 'block' : 'none';\n",
              "\n",
              "        async function convertToInteractive(key) {\n",
              "          const element = document.querySelector('#df-6f396530-818a-4de7-ac29-fb1e5ac82b00');\n",
              "          const dataTable =\n",
              "            await google.colab.kernel.invokeFunction('convertToInteractive',\n",
              "                                                     [key], {});\n",
              "          if (!dataTable) return;\n",
              "\n",
              "          const docLinkHtml = 'Like what you see? Visit the ' +\n",
              "            '<a target=\"_blank\" href=https://colab.research.google.com/notebooks/data_table.ipynb>data table notebook</a>'\n",
              "            + ' to learn more about interactive tables.';\n",
              "          element.innerHTML = '';\n",
              "          dataTable['output_type'] = 'display_data';\n",
              "          await google.colab.output.renderOutput(dataTable, element);\n",
              "          const docLink = document.createElement('div');\n",
              "          docLink.innerHTML = docLinkHtml;\n",
              "          element.appendChild(docLink);\n",
              "        }\n",
              "      </script>\n",
              "    </div>\n",
              "  </div>\n",
              "  "
            ]
          },
          "metadata": {},
          "execution_count": 264
        }
      ]
    },
    {
      "cell_type": "code",
      "source": [
        "train_data.shape"
      ],
      "metadata": {
        "colab": {
          "base_uri": "https://localhost:8080/"
        },
        "id": "COly6rCHWoX2",
        "outputId": "2e950ae5-65eb-44d3-8130-8c7a765c384b"
      },
      "execution_count": null,
      "outputs": [
        {
          "output_type": "execute_result",
          "data": {
            "text/plain": [
              "(2843, 7)"
            ]
          },
          "metadata": {},
          "execution_count": 265
        }
      ]
    },
    {
      "cell_type": "markdown",
      "source": [
        "# 1.1훈련데이터 전처리 "
      ],
      "metadata": {
        "id": "3AmfS5FzgCy_"
      }
    },
    {
      "cell_type": "markdown",
      "source": [
        "# 특수문자 지우기\n",
        "\n",
        "문제) 숫자 표현을 살릴까 말까\n"
      ],
      "metadata": {
        "id": "HKLsdmv9F2_U"
      }
    },
    {
      "cell_type": "code",
      "source": [
        "#Null값 탐색\n",
        "print(train_data.isnull().values.any())\n",
        "print(train_data.isnull().sum())"
      ],
      "metadata": {
        "colab": {
          "base_uri": "https://localhost:8080/"
        },
        "id": "bPGB_5GZD5My",
        "outputId": "e1070d17-0b3a-4abe-8383-efa6e3ca72ef"
      },
      "execution_count": null,
      "outputs": [
        {
          "output_type": "stream",
          "name": "stdout",
          "text": [
            "False\n",
            "ID       0\n",
            "날짜       0\n",
            "제목       0\n",
            "조회       0\n",
            "공감       0\n",
            "비공감      0\n",
            "label    0\n",
            "dtype: int64\n"
          ]
        }
      ]
    },
    {
      "cell_type": "code",
      "source": [
        "#한글과 공백만 선택\n",
        "train_data['제목'] = train_data['제목'].str.replace(\"[^ㄱ-ㅎㅏ-ㅣ가-힣 ]\",\"\") #ㄱ-ㅎㅏ-ㅣ가-힣 가 아닌 문자는 공백처리\n",
        "train_data[\"제목\"] = train_data[\"제목\"].replace(\"\\n\",\"\").replace('\\t','').replace('\\r','')\n",
        "\n",
        "train_data[:10]\n",
        "\n",
        "#숫자 표현도 고려할 시 아래 정규식 사용\n",
        "'''\n",
        "train_data['제목'] = train_data['제목'].str.replace(\"[-=■●+,#/\\?:^.@*\\\"※~ㆍ!』‘|\\(\\)\\[\\]`\\'…》\\”\\“\\’·]\",\"\")\n",
        "train_data['제목'] = train_data['제목'].str.replace(\"[a-zA-Z]\",\"\")\n",
        "'''"
      ],
      "metadata": {
        "colab": {
          "base_uri": "https://localhost:8080/",
          "height": 308
        },
        "id": "GZ_hcAePFVnN",
        "outputId": "a80abf0e-c7be-4f84-e7b1-988529ec1987"
      },
      "execution_count": null,
      "outputs": [
        {
          "output_type": "stream",
          "name": "stderr",
          "text": [
            "/usr/local/lib/python3.7/dist-packages/ipykernel_launcher.py:2: FutureWarning: The default value of regex will change from True to False in a future version.\n",
            "  \n",
            "/usr/local/lib/python3.7/dist-packages/ipykernel_launcher.py:2: SettingWithCopyWarning: \n",
            "A value is trying to be set on a copy of a slice from a DataFrame.\n",
            "Try using .loc[row_indexer,col_indexer] = value instead\n",
            "\n",
            "See the caveats in the documentation: https://pandas.pydata.org/pandas-docs/stable/user_guide/indexing.html#returning-a-view-versus-a-copy\n",
            "  \n",
            "/usr/local/lib/python3.7/dist-packages/ipykernel_launcher.py:3: SettingWithCopyWarning: \n",
            "A value is trying to be set on a copy of a slice from a DataFrame.\n",
            "Try using .loc[row_indexer,col_indexer] = value instead\n",
            "\n",
            "See the caveats in the documentation: https://pandas.pydata.org/pandas-docs/stable/user_guide/indexing.html#returning-a-view-versus-a-copy\n",
            "  This is separate from the ipykernel package so we can avoid doing imports until\n"
          ]
        },
        {
          "output_type": "execute_result",
          "data": {
            "text/plain": [
              "'\\ntrain_data[\\'제목\\'] = train_data[\\'제목\\'].str.replace(\"[-=■●+,#/\\\\?:^.@*\"※~ㆍ!』‘|\\\\(\\\\)\\\\[\\\\]`\\'…》\\\\”\\\\“\\\\’·]\",\"\")\\ntrain_data[\\'제목\\'] = train_data[\\'제목\\'].str.replace(\"[a-zA-Z]\",\"\")\\n'"
            ],
            "application/vnd.google.colaboratory.intrinsic+json": {
              "type": "string"
            }
          },
          "metadata": {},
          "execution_count": 267
        }
      ]
    },
    {
      "cell_type": "code",
      "source": [
        "#Null값 탐색\n",
        "print(train_data.isnull().values.any())\n",
        "print(train_data.isnull().sum())\n",
        "\n",
        "cnt=0\n",
        "n = train_data.copy()\n",
        "for i in range(len(n)):\n",
        "  if n.iloc[i]['제목'] == \"\" :\n",
        "    cnt += 1\n",
        "    train_data = train_data.drop(train_data.index[i])\n",
        "\n",
        "print(len(n))\n",
        "print(cnt)\n",
        "print(len(train_data))\n",
        "\n",
        "train_data.shape"
      ],
      "metadata": {
        "colab": {
          "base_uri": "https://localhost:8080/"
        },
        "id": "I_22XiTvHWcJ",
        "outputId": "839da581-b953-43c3-a86f-ec418e597f29"
      },
      "execution_count": null,
      "outputs": [
        {
          "output_type": "stream",
          "name": "stdout",
          "text": [
            "False\n",
            "ID       0\n",
            "날짜       0\n",
            "제목       0\n",
            "조회       0\n",
            "공감       0\n",
            "비공감      0\n",
            "label    0\n",
            "dtype: int64\n",
            "2843\n",
            "2\n",
            "2841\n"
          ]
        },
        {
          "output_type": "execute_result",
          "data": {
            "text/plain": [
              "(2841, 7)"
            ]
          },
          "metadata": {},
          "execution_count": 268
        }
      ]
    },
    {
      "cell_type": "code",
      "source": [
        "print('남은 Row 수 :',len(train_data)) # 2840 개 나오면 됨!"
      ],
      "metadata": {
        "colab": {
          "base_uri": "https://localhost:8080/"
        },
        "id": "3wu8ipyRSJYF",
        "outputId": "55f7707d-7ef4-401a-9e64-e8017cb5cbf9"
      },
      "execution_count": null,
      "outputs": [
        {
          "output_type": "stream",
          "name": "stdout",
          "text": [
            "남은 Row 수 : 2841\n"
          ]
        }
      ]
    },
    {
      "cell_type": "markdown",
      "source": [
        "# 1.2 테스트데이터 전처리 "
      ],
      "metadata": {
        "id": "UuwJZd0Bggbj"
      }
    },
    {
      "cell_type": "code",
      "source": [
        "#Null값 탐색\n",
        "print(test_data.isnull().values.any())\n",
        "print(test_data.isnull().sum())\n",
        "\n",
        "cnt = 0\n",
        "m = test_data.copy()\n",
        "for i in range(len(m)):\n",
        "  if m.iloc[i]['제목'] == \"\" :\n",
        "    cnt += 1\n",
        "    test_data = test_data.drop(test_data.index[i])\n",
        "\n",
        "print(len(m))\n",
        "print(cnt)\n",
        "print(len(test_data))"
      ],
      "metadata": {
        "colab": {
          "base_uri": "https://localhost:8080/"
        },
        "id": "JNAfIuYTgjKM",
        "outputId": "f5d9fd90-5813-4c7a-e5ad-4d71e4737042"
      },
      "execution_count": null,
      "outputs": [
        {
          "output_type": "stream",
          "name": "stdout",
          "text": [
            "False\n",
            "Unnamed: 0    0\n",
            "날짜            0\n",
            "제목            0\n",
            "조회            0\n",
            "공감            0\n",
            "비공감           0\n",
            "dtype: int64\n",
            "840\n",
            "0\n",
            "840\n"
          ]
        }
      ]
    },
    {
      "cell_type": "code",
      "source": [
        "test_data.shape"
      ],
      "metadata": {
        "colab": {
          "base_uri": "https://localhost:8080/"
        },
        "id": "FoqU-0VfhckF",
        "outputId": "297cb110-ed32-45ac-a92e-1b495e6ecc42"
      },
      "execution_count": null,
      "outputs": [
        {
          "output_type": "execute_result",
          "data": {
            "text/plain": [
              "(840, 6)"
            ]
          },
          "metadata": {},
          "execution_count": 271
        }
      ]
    },
    {
      "cell_type": "code",
      "source": [
        "#한글과 공백만 선택\n",
        "test_data['제목'] = test_data['제목'].str.replace(\"[^ㄱ-ㅎㅏ-ㅣ가-힣 ]\",\"\") #ㄱ-ㅎㅏ-ㅣ가-힣 에 포함되지 않는 문자는 ''로 대체\n",
        "test_data[\"제목\"] = test_data[\"제목\"].replace(\"\\n\",\"\").replace('\\t','').replace('\\r','')\n",
        "\n",
        "test_data[:10]\n",
        "\n",
        "#숫자 표현도 고려할 시 아래 정규식 사용\n",
        "'''\n",
        "train_data['제목'] = train_data['제목'].str.replace(\"[-=■●+,#/\\?:^.@*\\\"※~ㆍ!』‘|\\(\\)\\[\\]`\\'…》\\”\\“\\’·]\",\"\")\n",
        "train_data['제목'] = train_data['제목'].str.replace(\"[a-zA-Z]\",\"\")'''"
      ],
      "metadata": {
        "colab": {
          "base_uri": "https://localhost:8080/",
          "height": 90
        },
        "id": "r379nRp1gse3",
        "outputId": "3bf1e922-f9ce-41fa-9d64-0193e81e6df4"
      },
      "execution_count": null,
      "outputs": [
        {
          "output_type": "stream",
          "name": "stderr",
          "text": [
            "/usr/local/lib/python3.7/dist-packages/ipykernel_launcher.py:2: FutureWarning: The default value of regex will change from True to False in a future version.\n",
            "  \n"
          ]
        },
        {
          "output_type": "execute_result",
          "data": {
            "text/plain": [
              "'\\ntrain_data[\\'제목\\'] = train_data[\\'제목\\'].str.replace(\"[-=■●+,#/\\\\?:^.@*\"※~ㆍ!』‘|\\\\(\\\\)\\\\[\\\\]`\\'…》\\\\”\\\\“\\\\’·]\",\"\")\\ntrain_data[\\'제목\\'] = train_data[\\'제목\\'].str.replace(\"[a-zA-Z]\",\"\")'"
            ],
            "application/vnd.google.colaboratory.intrinsic+json": {
              "type": "string"
            }
          },
          "metadata": {},
          "execution_count": 272
        }
      ]
    },
    {
      "cell_type": "code",
      "source": [
        "\n",
        "print('남은 Row 수 :',len(test_data)) # 840 개 나오면 됨!\n"
      ],
      "metadata": {
        "colab": {
          "base_uri": "https://localhost:8080/"
        },
        "id": "3vwpRFzOhTUH",
        "outputId": "7e77eae2-bc15-4bc3-ef02-64ee4523fcd3"
      },
      "execution_count": null,
      "outputs": [
        {
          "output_type": "stream",
          "name": "stdout",
          "text": [
            "남은 Row 수 : 840\n"
          ]
        }
      ]
    },
    {
      "cell_type": "markdown",
      "source": [
        "# 형태소 분석(토큰화)\n",
        "-> 불용어 선택\n",
        "\n",
        "-> 형태소 분석기 선택(okt, kkoma, hannanum)\n",
        "\n",
        "-> 정확도는 kkoma가 가장 좋은 듯...?\n",
        "\n"
      ],
      "metadata": {
        "id": "ScV1SLX2QL8Y"
      }
    },
    {
      "cell_type": "code",
      "source": [
        "# 학습 데이터가 비교적 작고 도메인도 좁기 때문에 최대한 조사와 같은 기능어 중심으로 편성함\n",
        "# stop_words = ['은','는','이','가','하','아','것','들','의','있','되','수','보','주','등','한']\n",
        "clean_train_subject = []"
      ],
      "metadata": {
        "id": "ck3c6NBTtLTr"
      },
      "execution_count": null,
      "outputs": []
    },
    {
      "cell_type": "code",
      "source": [
        "# 형태소 분석기: \"okt\"\n",
        "def preprocessing_okt(subject, okt, remove_stopwords = False, stop_words =[]):#\n",
        "  # 형태소 분석\n",
        "  # okt는 별도로 스테머를 활용 가능\n",
        "  subject_word = okt.morphs(subject,stem=True)\n",
        "  if remove_stopwords:\n",
        "    # 불용어 제거\n",
        "    subject_word = [token for token in subject_word if not token in stop_words]\n",
        "  return subject_word\n",
        "\n",
        "# 형태소 분석기: \"kkma\" \n",
        "# 가장 오래 걸림: 1분 47초 소요\n",
        "def preprocessing_kkma(subject, kkma, remove_stopwords = False, stop_words =[]):#\n",
        "  # 형태소 분석\n",
        "  subject_word = kkma.morphs(subject)\n",
        "  if remove_stopwords:\n",
        "    # 불용어 제거\n",
        "    subject_word = [token for token in subject_word if not token in stop_words]\n",
        "  return subject_word\n",
        "\n",
        "# 형태소 분석기: \"hannanum\"\n",
        "def preprocessing_hannanum(subject, hannanum, remove_stopwords = False, stop_words =[]):#\n",
        "  # 형태소 분석\n",
        "  subject_word = hannanum.morphs(subject)\n",
        "  if remove_stopwords:\n",
        "    # 불용어 제거\n",
        "    subject_word = [token for token in subject_word if not token in stop_words]\n",
        "  return subject_word\n",
        "\n",
        "# 형태소 분석기: \"komoran\"\n",
        "def preprocessing_komoran(subject, komoran, remove_stopwords = False, stop_words =[]):#\n",
        "  # 형태소 분석\n",
        "  subject_word = komoran.morphs(subject)\n",
        "  if remove_stopwords:\n",
        "    # 불용어 제거\n",
        "    subject_word = [token for token in subject_word if not token in stop_words]\n",
        "  return subject_word"
      ],
      "metadata": {
        "id": "8Kpv533rSYrN"
      },
      "execution_count": null,
      "outputs": []
    },
    {
      "cell_type": "code",
      "source": [
        "# 형태소 분석기 선택하기\n",
        "order = input('사용할 형태소 분석기를 선택(1: okt, 2: kkma, 3: hannanum, 4: komoran)\\n>>')\n",
        "clean_train_subject = []\n",
        "if order == '1':\n",
        "  print('okt 실행 중')\n",
        "  # 불용어 리스트\n",
        "  stop_words = '다 은 는 이 가 하 아 것 들 의 있 자 되 수 보 주 등 고 한'.split()\n",
        "  okt = Okt()\n",
        "  for subject in train_data['제목']:\n",
        "    clean_train_subject.append(preprocessing_okt(subject,okt,remove_stopwords=True,stop_words= stop_words))\n",
        "  print(clean_train_subject[:10])\n",
        "\n",
        "elif order == '2':\n",
        "  print('kkma 실행 중')\n",
        "  # 불용어 리스트\n",
        "  stop_words = '이 있 하 다 것 ㄴ 들 ㄹ라고 ㄹ ㄹ지 게 그 되 수 ㅂ니다 ㄴ다 여 ㅁ 나 아니 는 았 등 같 때 러 가 한 지 오 에 말 일'.split()\n",
        "  kkma = Kkma()\n",
        "  try:\n",
        "    for subject in train_data['제목']:\n",
        "      clean_train_subject.append(preprocessing_kkma(subject,kkma,remove_stopwords=True,stop_words= stop_words))\n",
        "    print(clean_train_subject[:100])\n",
        "  except:\n",
        "    pass\n",
        "\n",
        "elif order == '3':\n",
        "  print('hannanum 실행 중')\n",
        "  # 불용어 리스트\n",
        "  stop_words = '자 ㅁ 가 은 고 는 이 하 ㅂ니다 아 것 들 ㄴ 다 의 었 있 되 수 보 주 등 한'.split()\n",
        "  hannanum = Hannanum()\n",
        "  for subject in train_data['제목']:\n",
        "    clean_train_subject.append(preprocessing_hannanum(subject,hannanum,remove_stopwords=True,stop_words= stop_words))\n",
        "  print(clean_train_subject[:100])\n",
        "\n",
        "elif order == '4':\n",
        "  print('komoran 실행 중')\n",
        "  # 불용어 리스트\n",
        "  stop_words = '자 은 고 는 니 이 었 ㄴ다 가 하 니까 ㅂ니다 아 것 ㅁ 들 ㄴ 다 의 있 되 수 보 ㄴ다고 주 등 면 ㄴ가 한'.split()\n",
        "  komoran = Komoran()\n",
        "  for subject in train_data['제목']:\n",
        "    clean_train_subject.append(preprocessing_komoran(subject,komoran,remove_stopwords=True,stop_words= stop_words))\n",
        "  print(clean_train_subject[:100])\n",
        "\n"
      ],
      "metadata": {
        "colab": {
          "base_uri": "https://localhost:8080/"
        },
        "id": "jMumws5Eu4Pf",
        "outputId": "8b06a207-c343-4571-aa61-295246ed129c"
      },
      "execution_count": null,
      "outputs": [
        {
          "output_type": "stream",
          "name": "stdout",
          "text": [
            "사용할 형태소 분석기를 선택(1: okt, 2: kkma, 3: hannanum, 4: komoran)\n",
            ">>2\n",
            "kkma 실행 중\n"
          ]
        }
      ]
    },
    {
      "cell_type": "markdown",
      "source": [
        "# 테스트 데이터 토큰화"
      ],
      "metadata": {
        "id": "j-qxQnsah9Jf"
      }
    },
    {
      "cell_type": "code",
      "source": [
        "# 형태소 분석기 선택하기\n",
        "# order = input('사용할 형태소 분석기를 선택(1: okt, 2: kkma, 3: hannanum, 4: komoran)\\n>>')\n",
        "X_test = []\n",
        "if order == '1':\n",
        "  print('okt 실행 중')\n",
        "  # 불용어 리스트\n",
        "  stop_words = '다 은 는 이 가 하 아 것 들 의 있 자 되 수 보 주 등 고 한'.split()\n",
        "  okt = Okt()\n",
        "  for subject in train_data['제목']:\n",
        "    X_test.append(preprocessing_okt(subject,okt,remove_stopwords=True,stop_words= stop_words))\n",
        "  print(X_test[:10])\n",
        "\n",
        "elif order == '2':\n",
        "  print('kkma 실행 중')\n",
        "  # 불용어 리스트\n",
        "  stop_words = '이 있 하 다 것 ㄴ 들 ㄹ라고 ㄹ ㄹ지 게 그 되 수 ㅂ니다 ㄴ다 여 ㅁ 나 아니 는 았 등 같 때 러 가 한 지 오 에 말 일'.split()\n",
        "  kkma = Kkma()\n",
        "  try:\n",
        "    for subject in train_data['제목']:\n",
        "      X_test.append(preprocessing_kkma(subject,kkma,remove_stopwords=True,stop_words= stop_words))\n",
        "    print(X_test[:100])\n",
        "  except:\n",
        "    pass\n",
        "\n",
        "elif order == '3':\n",
        "  print('hannanum 실행 중')\n",
        "  # 불용어 리스트\n",
        "  stop_words = '자 ㅁ 가 은 고 는 이 하 ㅂ니다 아 것 들 ㄴ 다 의 었 있 되 수 보 주 등 한'.split()\n",
        "  hannanum = Hannanum()\n",
        "  for subject in train_data['제목']:\n",
        "    X_test.append(preprocessing_hannanum(subject,hannanum,remove_stopwords=True,stop_words= stop_words))\n",
        "  print(X_test[:100])\n",
        "\n",
        "elif order == '4':\n",
        "  print('komoran 실행 중')\n",
        "  # 불용어 리스트\n",
        "  stop_words = '자 은 고 는 니 이 었 ㄴ다 가 하 니까 ㅂ니다 아 것 ㅁ 들 ㄴ 다 의 있 되 수 보 ㄴ다고 주 등 면 ㄴ가 한'.split()\n",
        "  komoran = Komoran()\n",
        "  for subject in train_data['제목']:\n",
        "    X_test.append(preprocessing_komoran(subject,komoran,remove_stopwords=True,stop_words= stop_words))\n",
        "  print(X_test[:100])\n"
      ],
      "metadata": {
        "colab": {
          "base_uri": "https://localhost:8080/"
        },
        "id": "8E9E4J75ibf8",
        "outputId": "95369532-8aca-485f-c306-7ee1435583a1"
      },
      "execution_count": null,
      "outputs": [
        {
          "output_type": "stream",
          "name": "stdout",
          "text": [
            "kkma 실행 중\n"
          ]
        }
      ]
    },
    {
      "cell_type": "markdown",
      "source": [
        "# 인덱스 벡터로 변환\n"
      ],
      "metadata": {
        "id": "-J3Os80lXa7-"
      }
    },
    {
      "cell_type": "code",
      "source": [
        "#단어 등장 빈도에 따른 정수값 부여\n",
        "tokenizer = Tokenizer()\n",
        "tokenizer.fit_on_texts(clean_train_subject) #fit_on_texts()안에 코퍼스를 입력으로 하면 빈도수를 기준으로 단어 집합을 생성한다"
      ],
      "metadata": {
        "id": "4Y0IetgSbR3f"
      },
      "execution_count": null,
      "outputs": []
    },
    {
      "cell_type": "code",
      "source": [
        "#사전을 보여줌(빈도순임)\n",
        "print(tokenizer.word_index)"
      ],
      "metadata": {
        "id": "c04ZVb6ebYjR"
      },
      "execution_count": null,
      "outputs": []
    },
    {
      "cell_type": "code",
      "source": [
        "threshold = 3\n",
        "word_vocab = tokenizer.word_index # 단어 사전 \n",
        "total_cnt = len(tokenizer.word_index) # 단어의 수\n",
        "rare_cnt = 0 # 등장 빈도수가 threshold보다 작은 단어의 개수를 카운트\n",
        "total_freq = 0 # 훈련 데이터의 전체 단어 빈도수 총 합\n",
        "rare_freq = 0 # 등장 빈도수가 threshold보다 작은 단어의 등장 빈도수의 총 합\n",
        "\n",
        "# 단어와 빈도수의 쌍(pair)을 key와 value로 받는다.\n",
        "for key, value in tokenizer.word_counts.items():\n",
        "    total_freq = total_freq + value\n",
        "\n",
        "    # 단어의 등장 빈도수가 threshold보다 작으면\n",
        "    if(value < threshold):\n",
        "        rare_cnt = rare_cnt + 1\n",
        "        rare_freq = rare_freq + value\n",
        "\n",
        "print('단어 집합(vocabulary)의 크기 :',total_cnt)\n",
        "print('등장 빈도가 %s번 이하인 희귀 단어의 수: %s'%(threshold - 1, rare_cnt))\n",
        "print(\"단어 집합에서 희귀 단어의 비율:\", (rare_cnt / total_cnt)*100)\n",
        "print(\"전체 등장 빈도에서 희귀 단어 등장 빈도 비율:\", (rare_freq / total_freq)*100)"
      ],
      "metadata": {
        "id": "P_EUc_JQb6BH"
      },
      "execution_count": null,
      "outputs": []
    },
    {
      "cell_type": "markdown",
      "source": [
        "https://wikidocs.net/44249 에 따르면...\n",
        "\n",
        "<okt기준>\n",
        "훈련 데이터에서 등장 빈도가 2회 이하인 단어는 단어 집합에서 절반 이상을 차지 중. 하지만, 실제로 훈련 데이터에서 등장 빈도로 차지하는 비중은 상대적으로 비교적 적은 수치인 8.44. 따라서 2회 이하인 단어들은 자연어 처리에서 별로 중요하지 않다고 볼 수도 있음. 그래서 이 단어들은 정수 인코딩 과정에서 배제하는 것도 충분히 가능함.\n",
        "\n",
        "다만, 8.75는 참고 자료에서 제시한 비율보다 더 높은 수준이라 일단 배제하지는 않겠음."
      ],
      "metadata": {
        "id": "cTwGO1ymcsB3"
      }
    },
    {
      "cell_type": "code",
      "source": [
        "vocab_size = total_cnt\n",
        "print('단어 집합의 크기 :',vocab_size)"
      ],
      "metadata": {
        "id": "Cz5nkAs5edGp"
      },
      "execution_count": null,
      "outputs": []
    },
    {
      "cell_type": "markdown",
      "source": [
        "### 텍스트 시퀀스를 정수 시퀀스로 변환"
      ],
      "metadata": {
        "id": "5SjQ5Dp8fqYa"
      }
    },
    {
      "cell_type": "code",
      "source": [
        "tokenizer = Tokenizer(vocab_size) \n",
        "tokenizer.fit_on_texts(clean_train_subject) # 앞에서 토큰화가 완료된 단어집\n",
        "X_train = tokenizer.texts_to_sequences(clean_train_subject) #문자열을 인덱스의 리스트로 변환\n",
        "X_test = tokenizer.texts_to_sequences(X_test) #테스트 데이터 생성시 활용"
      ],
      "metadata": {
        "id": "z2uokzTPezap"
      },
      "execution_count": null,
      "outputs": []
    },
    {
      "cell_type": "code",
      "source": [
        "print(X_train[:5])"
      ],
      "metadata": {
        "id": "MkdcfdZzfXAm"
      },
      "execution_count": null,
      "outputs": []
    },
    {
      "cell_type": "markdown",
      "source": [
        "# 단어 패딩\n",
        "\n",
        "-> 학습 모델이 처리할 수 있도록 모든 문장들을 동일한 길이의 차원의 벡터로 담아야 함. 가장 길이가 긴 문장을 담으면 좋겠지만, 그럴 경우 불필요하게 과다한 차원이 생겨 작업 효율을 저하시킬 수 있기 때문에 전체적인 데이터의 크기를 볼 필요가 있음\n",
        "\n",
        "-> 데이터 시각화로 전체적인 문자열의 길이를 확인, 적당한 크기를 차원수로 확정"
      ],
      "metadata": {
        "id": "FH6V3RqjgtXo"
      }
    },
    {
      "cell_type": "markdown",
      "source": [
        "# 주의!\n",
        "### 형태소 분석기(불용어 필터)에 따라 샘플 크기가 달라지기 때문에 이 부분에서는 유동적으로 max_len의 크기를 조절하는 게 좋음"
      ],
      "metadata": {
        "id": "0r_zDE_L0knq"
      }
    },
    {
      "cell_type": "code",
      "source": [
        "import matplotlib.pyplot as plt"
      ],
      "metadata": {
        "id": "MF7_r20oDJhc"
      },
      "execution_count": null,
      "outputs": []
    },
    {
      "cell_type": "code",
      "source": [
        "print('제목의 최대 길이 :',max(len(review) for review in X_train))\n",
        "print('제목의 평균 길이 :',sum(map(len, X_train))/len(X_train))\n",
        "plt.hist([len(review) for review in X_train], bins=50)\n",
        "plt.xlabel('length of samples')\n",
        "plt.ylabel('number of samples')\n",
        "plt.show()"
      ],
      "metadata": {
        "id": "a3rLsdmCgwOj"
      },
      "execution_count": null,
      "outputs": []
    },
    {
      "cell_type": "code",
      "source": [
        "#전체 문장들에서 특정 길이 이하인 문장들의 비율을 제시해주는 함수\n",
        "def below_threshold_len(max_len, nested_list):\n",
        "  count = 0\n",
        "  for sentence in nested_list:\n",
        "    if(len(sentence) <= max_len):\n",
        "        count = count + 1\n",
        "  print('전체 샘플 중 길이가 %s 이하인 샘플의 비율: %s'%(max_len, (count / len(nested_list))*100))"
      ],
      "metadata": {
        "id": "_hwuAtrvgwT6"
      },
      "execution_count": null,
      "outputs": []
    },
    {
      "cell_type": "code",
      "source": [
        "max_len = 13\n",
        "below_threshold_len(max_len, X_train)"
      ],
      "metadata": {
        "id": "2m-46bPYmdJP"
      },
      "execution_count": null,
      "outputs": []
    },
    {
      "cell_type": "code",
      "source": [
        "# n차원의 벡터로 패딩하기\n",
        "train_inputs = pad_sequences(X_train, maxlen=max_len)\n",
        "X_test = pad_sequences(X_test, maxlen=max_len)"
      ],
      "metadata": {
        "id": "IBeqebTooW07"
      },
      "execution_count": null,
      "outputs": []
    },
    {
      "cell_type": "code",
      "source": [
        "#학습 데이터 라벨 벡터화\n",
        "train_labels = np.array(train_data['label'])"
      ],
      "metadata": {
        "id": "WsheZHcWXJta"
      },
      "execution_count": null,
      "outputs": []
    },
    {
      "cell_type": "code",
      "source": [
        "#drop_train에는 X_train으로부터 얻은 빈 샘플들의 인덱스가 저장\n",
        "drop = [index for index, sentence in enumerate(train_inputs) if len(sentence) < 1]\n",
        "\n",
        "# 빈 샘플들을 제거\n",
        "train_inputs = np.delete(train_inputs, drop, axis=0)\n",
        "train_labels = np.delete(train_labels, drop, axis=0)\n",
        "print(len(train_inputs)) # 샘플의 수\n",
        "print(len(train_labels)) # 샘플의 수\n"
      ],
      "metadata": {
        "id": "d8quABdrj6Er"
      },
      "execution_count": null,
      "outputs": []
    },
    {
      "cell_type": "code",
      "source": [
        "from sklearn.model_selection import train_test_split\n",
        "X_train, X_val, y_train, y_val = train_test_split(train_inputs, train_labels, test_size=0.2, random_state=42)"
      ],
      "metadata": {
        "id": "1s4mMj8bk66P"
      },
      "execution_count": null,
      "outputs": []
    },
    {
      "cell_type": "markdown",
      "source": [
        "## 데이터 저장"
      ],
      "metadata": {
        "id": "7v_p0eYtgrlR"
      }
    },
    {
      "cell_type": "code",
      "source": [
        "DEFAULT_PATH  = '/content/drive/Shareddrives/B반 3조/7 22 머신러닝 딥러닝 프로젝트/data/' # 경로지정\n",
        "DATA_PATH = 'CLEAN_DATA/' #.npy파일 저장 경로지정\n",
        "TRAIN_INPUT_DATA = 'community_train_input.npy'\n",
        "TRAIN_LABEL_DATA = 'community_train_label.npy'\n",
        "TEST_INPUT_DATA = 'community_test_input.npy'\n",
        "TEST_LABEL_DATA = 'community_test_label.npy'\n",
        "DATA_CONFIGS = 'data_configs.json'\n",
        "\n",
        "data_configs={}\n",
        "data_configs['vocab'] = word_vocab\n",
        "data_configs['vocab_size'] = len(word_vocab) + 1\n",
        "\n",
        "#전처리한 데이터들 파일로저장\n",
        "import os\n",
        "\n",
        "if not os.path.exists(DEFAULT_PATH + DATA_PATH):\n",
        "  os.makedirs(DEFAULT_PATH+DATA_PATH)\n",
        "\n",
        "#전처리 학습데이터 넘파이로 저장\n",
        "np.save(open(DEFAULT_PATH+DATA_PATH+TRAIN_INPUT_DATA,'wb'),train_inputs)\n",
        "np.save(open(DEFAULT_PATH+DATA_PATH+TRAIN_LABEL_DATA,'wb'),train_labels)\n",
        "#전처리 테스트데이터 넘파이로 저장\n",
        "\n",
        "\n",
        "#데이터 사전 json으로 저장\n",
        "json.dump(data_configs,open(DEFAULT_PATH + DATA_PATH + DATA_CONFIGS,'w'),ensure_ascii=False)"
      ],
      "metadata": {
        "id": "uOYqCQq6XJwB"
      },
      "execution_count": null,
      "outputs": []
    },
    {
      "cell_type": "markdown",
      "source": [
        "## 모델 구현"
      ],
      "metadata": {
        "id": "-B8915yanmgN"
      }
    },
    {
      "cell_type": "code",
      "source": [
        "from tensorflow.keras.layers import Embedding, Dense, LSTM\n",
        "from tensorflow.keras.models import Sequential\n",
        "from tensorflow.keras.models import load_model\n",
        "from tensorflow.keras.callbacks import EarlyStopping, ModelCheckpoint\n",
        "\n",
        "embedding_dim = 100\n",
        "hidden_units = 128\n",
        "\n",
        "model = Sequential()\n",
        "model.add(Embedding(vocab_size, embedding_dim))\n",
        "model.add(LSTM(hidden_units))\n",
        "model.add(Dense(1, activation='sigmoid'))\n",
        "\n",
        "es = EarlyStopping(monitor='val_loss', mode='min', verbose=1, patience=4)\n",
        "mc = ModelCheckpoint('best_model.h5', monitor='val_acc', mode='max', verbose=1, save_best_only=True)\n",
        "\n",
        "model.compile(optimizer='rmsprop', loss='binary_crossentropy', metrics=['acc'])\n",
        "history = model.fit(X_train, y_train, epochs=15, callbacks=[es, mc], batch_size=64, validation_split=0.2)"
      ],
      "metadata": {
        "id": "7RzGeUdYy4hg"
      },
      "execution_count": null,
      "outputs": []
    },
    {
      "cell_type": "markdown",
      "source": [
        "## 모델학습"
      ],
      "metadata": {
        "id": "dcm5goBPnryI"
      }
    },
    {
      "cell_type": "code",
      "source": [
        "loaded_model = load_model('best_model.h5')\n",
        "print(\"\\n 테스트 정확도: %.4f\" % (loaded_model.evaluate(X_val, y_val)[1]))\n",
        "\n",
        "#형태소 분석기 별 정확도\n",
        "# 1. okt : 정확도 86%\n",
        "# 2. kkma : 정확도 88%\n",
        "# 3. hannanum : 정확도 84%\n",
        "# 4. komoran : 정확도 87%"
      ],
      "metadata": {
        "id": "kHCHCJGuLRFh"
      },
      "execution_count": null,
      "outputs": []
    },
    {
      "cell_type": "code",
      "source": [
        "def sentiment_predict(new_sentence):\n",
        "  original = new_sentence\n",
        "  new_sentence = re.sub(r'[^ㄱ-ㅎㅏ-ㅣ가-힣 ]', '', new_sentence)\n",
        "  new_sentence = okt.morphs(new_sentence, stem=True)\n",
        "  new_sentence = [word for word in new_sentence if not word in stop_words]\n",
        "  encoded = tokenizer.texts_to_sequences([new_sentence])\n",
        "  pad_new = pad_sequences(encoded, maxlen = max_len)\n",
        "  score = float(loaded_model.predict(pad_new))\n",
        "\n",
        "  #print(original)\n",
        "  if(score > 0.5):\n",
        "    #print(\"{:.2f}% 확률로 긍정 리뷰입니다.\\n\".format(score * 100))\n",
        "    return True\n",
        "  else:\n",
        "    #print(\"{:.2f}% 확률로 부정 리뷰입니다.\\n\".format((1-score) * 100))\n",
        "    return False\n",
        "\n",
        "\n",
        "test_data.head()"
      ],
      "metadata": {
        "id": "yo7TOteJM97a"
      },
      "execution_count": null,
      "outputs": []
    },
    {
      "cell_type": "code",
      "source": [
        "# j = 0\n",
        "# for title in test_data[\"제목\"]:\n",
        "#   if(j > 10):\n",
        "#     break\n",
        "#   sentiment_predict(title)\n",
        "#   j+=1"
      ],
      "metadata": {
        "id": "hJTCtQmzOA_x"
      },
      "execution_count": null,
      "outputs": []
    },
    {
      "cell_type": "code",
      "source": [
        "r_positive = 0\n",
        "r_negative = 0\n",
        "\n",
        "for title in test_data[\"제목\"]:\n",
        "  if sentiment_predict(title):\n",
        "    r_positive += 1\n",
        "  else:\n",
        "    r_negative += 1\n",
        "\n",
        "if r_positive > r_negative:\n",
        "  print(\"{:.2f}%의 확률로 상승\".format(r_positive/len(test_data[\"제목\"]) * 100))\n",
        "else:\n",
        "  print(\"{:.2f}%의 확률로 하락\".format(r_negative/len(test_data[\"제목\"]) * 100))"
      ],
      "metadata": {
        "id": "RuxfWuUduc2d"
      },
      "execution_count": null,
      "outputs": []
    }
  ]
}